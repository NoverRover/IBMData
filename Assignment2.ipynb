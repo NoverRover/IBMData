{
 "cells": [
  {
   "cell_type": "markdown",
   "id": "1ddd1f16",
   "metadata": {},
   "source": [
    "# My Jupyter Notebook on IBM Watson Studio"
   ]
  },
  {
   "cell_type": "markdown",
   "id": "e0faacca",
   "metadata": {},
   "source": [
    "**Noah**\n",
    "\n",
    "Computational Neuroscientist"
   ]
  },
  {
   "cell_type": "markdown",
   "id": "fb601282",
   "metadata": {},
   "source": [
    "*I am interested in data science because it enables to to better understand and  apply machine learning techniques necessary for big data evaluation of EEG and fMRI data.*"
   ]
  },
  {
   "cell_type": "markdown",
   "id": "4171563b",
   "metadata": {},
   "source": [
    "### The code below calculates 1 + 1"
   ]
  },
  {
   "cell_type": "code",
   "execution_count": 2,
   "id": "7b369979",
   "metadata": {},
   "outputs": [
    {
     "data": {
      "text/plain": [
       "2"
      ]
     },
     "execution_count": 2,
     "metadata": {},
     "output_type": "execute_result"
    }
   ],
   "source": [
    "1+1"
   ]
  },
  {
   "cell_type": "markdown",
   "id": "6e636cfa",
   "metadata": {},
   "source": [
    "~Strikethrough~\n",
    "1. Item\n",
    "2. Item2\n",
    "* Bullet point\n",
    "* [Google](https://www.google.com/)"
   ]
  },
  {
   "cell_type": "code",
   "execution_count": null,
   "id": "a0d64056",
   "metadata": {},
   "outputs": [],
   "source": []
  }
 ],
 "metadata": {
  "kernelspec": {
   "display_name": "Python 3 (ipykernel)",
   "language": "python",
   "name": "python3"
  },
  "language_info": {
   "codemirror_mode": {
    "name": "ipython",
    "version": 3
   },
   "file_extension": ".py",
   "mimetype": "text/x-python",
   "name": "python",
   "nbconvert_exporter": "python",
   "pygments_lexer": "ipython3",
   "version": "3.9.12"
  }
 },
 "nbformat": 4,
 "nbformat_minor": 5
}
